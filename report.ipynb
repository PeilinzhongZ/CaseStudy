{
 "cells": [
  {
   "cell_type": "markdown",
   "metadata": {},
   "source": [
    "### 1 Executive Summary"
   ]
  },
  {
   "cell_type": "markdown",
   "metadata": {},
   "source": []
  },
  {
   "cell_type": "markdown",
   "metadata": {},
   "source": [
    "### 2 Background"
   ]
  },
  {
   "cell_type": "markdown",
   "metadata": {},
   "source": [
    "As a successful dot-com start-ups, after fast growth initially, QWE realized the need for deeper analytical insight into some key business processes, one of which was customer retention. At first, QWE tried to convince the customer to extend the contract by offering free services or discounts on existing services. However, QWE wondered if they could develop a more proactive approach. Also, they hoped they could estimate the probability that a given customer would leave in the near future and identify the drivers that contributed most to that customer’s decision. To solve this problem, QWE wanted to generate a list of the 100 customers who were most likely to leave and, if possible, the three factors contributing most to that likelihood.\n",
    "\n",
    "To collect dataset, QWE rolled back two months to December 1, 2011, and obtained a sample of 6,000 of QWE’s customers as of that date. To start with this task, Customer age, CHI [Customer Happiness Index], and service and usage patterns are thought as the most important characteristics to solve this problem. QWE doubted that those customers with high CHI scores leave much, but those who are unhappy might leave, and so might those for whom CHI scores dropped recently. Also, number of support cases, average support priority, and usage information: logins, blogs, views, and days since last login are related with the customer retention."
   ]
  },
  {
   "cell_type": "markdown",
   "metadata": {},
   "source": [
    "### 3 Initial Data Analysis"
   ]
  },
  {
   "cell_type": "markdown",
   "metadata": {},
   "source": [
    "The dataset provided for this analysis includes 6,347 observations, each of which represents information for a given customer, across 13 variables:\n",
    "- ID - The id of a customer\n",
    "- CustomerAgeinmonths  \n",
    "- ChurnYesNo \n",
    "- CHIScoreMonth \n",
    "- CHIScore\n",
    "- SupportCasesMonth \n",
    "- SupportCases\n",
    "- SPMonth\n",
    "- SP\n",
    "- Logins\n",
    "- BlogArticles\n",
    "- Views\n",
    "- DaysSinceLastLogin\n"
   ]
  },
  {
   "cell_type": "markdown",
   "metadata": {},
   "source": [
    "### 4 Method And Results"
   ]
  },
  {
   "cell_type": "markdown",
   "metadata": {},
   "source": [
    "#### 4.1 Is Wall’s belief about the dependence of churn rates on customer age supported by the data? To get some intuition, try visualizing this dependence (Hint: no need to run any statistical tests)."
   ]
  },
  {
   "cell_type": "markdown",
   "metadata": {},
   "source": [
    "![](images/1.png)"
   ]
  },
  {
   "cell_type": "markdown",
   "metadata": {},
   "source": [
    "From the graph, we can not see any relationship between churn rate and customer age. As a result, customer age can not support the dependence of churn age."
   ]
  },
  {
   "cell_type": "markdown",
   "metadata": {},
   "source": [
    "### 4.2 To start, run a single regression model that best predicts the probability that a customer leaves."
   ]
  },
  {
   "cell_type": "markdown",
   "metadata": {},
   "source": [
    "To run a single regression model, we select the CHIScoreMonth to predict the customer churn because it has much higher correlation value than others, and also has a better p-value than others.\n",
    "\n",
    "|     Characteristic  | Correlation Calue  |\n",
    "|---------------------|--------------|\n",
    "|ID                   |-0.106701     |\n",
    "|CustomerAgeinmonths  |0.030215      |\n",
    "|ChurnYesNo           |1.000000      |\n",
    "|CHIScoreMonth        |-0.084005     |\n",
    "|CHIScore             |-0.008713     |\n",
    "|SupportCasesMonth    |-0.044973     |\n",
    "|SupportCases         |-0.044407     |\n",
    "|SPMonth              |-0.054935     |\n",
    "|SP                   |-0.019682     |\n",
    "|Logins               |-0.043077     |\n",
    "|BlogArticles         |-0.025090     |\n",
    "|Views                |0.000007      |\n",
    "|DaysSinceLastLogin   |0.111568      |\n",
    "\n",
    "| Characteristic      | P-Value          |\n",
    "|---------------------|------------------|\n",
    "|CustomerAgeinmonths  |1.60718369e-02    |\n",
    "|CHIScoreMonth        |2.04157590e-11    |\n",
    "|CHIScore             |4.87682982e-01    |\n",
    "|SupportCasesMonth    |3.38343505e-04    |\n",
    "|SupportCases         |4.01840246e-04    |\n",
    "|SPMonth              |1.19213194e-05    |\n",
    "|SP                   |1.16910725e-01    |\n",
    "|Logins               |5.97469659e-04    |\n",
    "|BlogArticles         |4.56350308e-02    |\n",
    "|Views                |9.99575334e-01    |\n",
    "|DaysSinceLastLogin   |4.89975992e-19    |\n",
    "\n",
    "Then, we can generate the single regression model: \n",
    "\n",
    "$$ ChurnYesNo = -2.46064255 - 0.00615342 * CHIScoreMonth $$\n"
   ]
  },
  {
   "cell_type": "markdown",
   "metadata": {},
   "source": [
    "#### a. What is the predicted probability that Customer 672 will leave between December 2011 and February 2012? Is that high or low? Did that customer actually leave?"
   ]
  },
  {
   "cell_type": "markdown",
   "metadata": {},
   "source": [
    "After we get the single refression model, we can calculate the the predicted probability with following equation:\n",
    "\n",
    "$$ P(ChurnYesNo) = \\frac{1}{1 + e^{-(-2.46064255 - 0.00615342 * CHIScoreMonth)}} $$\n",
    "\n",
    "|   ID   | CHI Score | Probability | Leave |\n",
    "|--------|-----------|-------------|-------|\n",
    "|672     |148        | 3.3%        | NO    |\n",
    "\n",
    "From above list, we can see that the customer 672 actually did not leave."
   ]
  },
  {
   "cell_type": "markdown",
   "metadata": {},
   "source": [
    "#### b. What about Customers 354 and 5,203?\n",
    "\n",
    "|   ID   | CHI Score | Probability | Leave |\n",
    "|--------|-----------|-------------|-------|\n",
    "|354     |139        | 3.5%        | NO    |\n",
    "|5203    |37         | 6.36%       | NO    |\n",
    "\n",
    "From above list, we can see that the customer 354 and 5203 actually did not leave."
   ]
  },
  {
   "cell_type": "markdown",
   "metadata": {},
   "source": [
    "### 4.3 How sensible is the approach with a single model? Can you suggest a better approach?"
   ]
  },
  {
   "cell_type": "markdown",
   "metadata": {},
   "source": [
    "For this single model, when we want to know how sensible it is, we can see the MSE of the model, and the MSE is 0.04829851187042081.\n",
    "\n",
    "If we want a better approach to predict the probability that a customer leaves, we can choose Multiple Logistic Regression(MLR). In this way, we can use multiple customer characteristics to predict the probability that a customer leaves.\n",
    "\n",
    "For this approach, we choose three customer characteristics in our \n",
    "\n",
    "- CustomerAgeinmonths \n",
    "- CHIScoreMonth\n",
    "- CHIScore\n",
    "- SupportCasesMonth\n",
    "- SPMonth\n",
    "- DaysSinceLastLogin\n",
    "\n",
    "We choose above six features by using ASSSO Regression, after calculation, we can know that Optimal Alpha as 5.722114280497082e-05, and the the MSE is 0.04792041154813162.\n",
    "\n",
    "|alpha    |beta |beta_val  |\n",
    "|---------|-----|----------|\n",
    "|0.000057 |b_1  |0.006374  |\n",
    "|0.000057 |b_2\t|-0.010174 |\n",
    "|0.000057 |b_3\t|0.002457  |\n",
    "|0.000057 |b_4\t|-0.001405 |\n",
    "|0.000057 |b_5\t|-0.000000 |\n",
    "|0.000057 |b_6\t|-0.005363 |\n",
    "|0.000057 |b_7\t|0.000000  |\n",
    "|0.000057 |b_8\t|0.000000  |\n",
    "|0.000057 |b_9\t|-0.000000 |\n",
    "|0.000057 |b_10 |0.000000  |\n",
    "|0.000057 |b_11 |0.011327  |\n"
   ]
  },
  {
   "cell_type": "markdown",
   "metadata": {},
   "source": [
    "#### a. Provide updated estimates of probabilities that Customers 672, 354, and 5,203 will leave."
   ]
  },
  {
   "cell_type": "markdown",
   "metadata": {},
   "source": [
    "After we select CustomerAgeinmonths, CHIScoreMonth, CHIScore, SupportCasesMonth, SPMonth, DaysSinceLastLogin as varibles in the model, we can get the equation in the Multiple Logistic Regression(MLR):\n",
    "\n",
    "$$ ChurnYesNo = -2.80257555 + 0.0155824 * CustomerAgeinmonths - 0.00609524 * CHIScoreMonth + 0.00339462 * CHIScore - 0.04366652 * SupportCasesMonth - 0.05840514 * SPMonth + 0.0109126 * DaysSinceLastLogin $$\n",
    "\n",
    "Also, the following formula is the equation of the predicted probability:\n",
    "\n",
    "$$ P(ChurnYesNo) = \\frac{1}{1 + e^{-(-2.80257555 + 0.0155824 * CustomerAgeinmonths - 0.00609524 * CHIScoreMonth + 0.00339462 * CHIScore - 0.04366652 * SupportCasesMonth - 0.05840514 * SPMonth + 0.0109126 * DaysSinceLastLogin)}} $$\n",
    "\n",
    "Now, we can updated estimates of probabilities that Customers 672, 354, and 5,203 will leave:\n",
    "\n",
    "|   ID   | Probability | Leave |\n",
    "|--------|-------------|-------|\n",
    "|672     | 3.13%       | NO    |\n",
    "|354     | 3.42%       | NO    |\n",
    "|5203    | 5.48%       | NO    |\n"
   ]
  },
  {
   "cell_type": "markdown",
   "metadata": {},
   "source": [
    "#### b. What factors contribute the most to the predicted probabilities that these customers will leave?"
   ]
  },
  {
   "cell_type": "markdown",
   "metadata": {},
   "source": [
    "From the correlation among the customer characteristics, we can find that the factors contribute the most to the predicted probabilities that these customers will leave is DaysSinceLastLogin, because this feature has the most high correlation in the all customer characteristics.\n",
    "\n",
    "|     Characteristic  | Churn1Yes0No |\n",
    "|---------------------|--------------|\n",
    "|ID                   |-0.106701     |\n",
    "|CustomerAgeinmonths  |0.030215      |\n",
    "|ChurnYesNo           |1.000000      |\n",
    "|CHIScoreMonth        |-0.084005     |\n",
    "|CHIScore             |-0.008713     |\n",
    "|SupportCasesMonth    |-0.044973     |\n",
    "|SupportCases         |-0.044407     |\n",
    "|SPMonth              |-0.054935     |\n",
    "|SP                   |-0.019682     |\n",
    "|Logins               |-0.043077     |\n",
    "|BlogArticles         |-0.025090     |\n",
    "|Views                |0.000007      |\n",
    "|DaysSinceLastLogin   |0.111568      |"
   ]
  },
  {
   "cell_type": "markdown",
   "metadata": {},
   "source": [
    "### 4.4 Answer Wall’s “ultimate question”: provide the list of 100 customers with highest churn probabilities and the top three drivers of churn for each customer."
   ]
  },
  {
   "attachments": {},
   "cell_type": "markdown",
   "metadata": {},
   "source": [
    "There is the list of 100 customers with highest churn probabilities. \n",
    "\n",
    "|0|ID|prob|\n",
    "|--|---|---|\n",
    "|1|2700|0.9743755561210412|\n",
    "|2|1496|0.4588634975384435|\n",
    "|3|133|0.42648904898844286|\n",
    "|4|1863|0.40403634769618496|\n",
    "|5|2563|0.37384749609150303|\n",
    "|6|1890|0.32243587338585106|\n",
    "|7|871|0.2960885021322218|\n",
    "|8|1522|0.2824096737599597|\n",
    "|9|1181|0.27448693138517194|\n",
    "|10|1108|0.2570021123293217|\n",
    "|11|94|0.25085065459247585|\n",
    "|12|3088|0.2406445158270692|\n",
    "|13|2281|0.2340081702019536|\n",
    "|14|49|0.23291591091358746|\n",
    "|15|52|0.2175757579073106|\n",
    "|16|192|0.21505110503659117|\n",
    "|17|1030|0.21444646106760737|\n",
    "|18|2944|0.21291915870012562|\n",
    "|19|110|0.2123404368199104|\n",
    "|20|166|0.20532215507085047|\n",
    "|21|3257|0.2026523246838147|\n",
    "|22|60|0.19724944458299026|\n",
    "|23|3027|0.19557717454309897|\n",
    "|24|1|0.19462013676939002|\n",
    "|25|3581|0.19094492910756555|\n",
    "|26|194|0.1868997892855476|\n",
    "|27|536|0.18138010558095022|\n",
    "|28|2011|0.17834932054929267|\n",
    "|29|1803|0.17793697016297044|\n",
    "|30|2079|0.17731232875469793|\n",
    "|31|1771|0.17278960422725503|\n",
    "|32|14|0.17135017873752686|\n",
    "|33|2096|0.17058780726057443|\n",
    "|34|1010|0.16789779987553238|\n",
    "|35|18|0.16697032616725613|\n",
    "|36|3|0.16697032616725613|\n",
    "|37|21|0.16481418415851076|\n",
    "|38|1219|0.1625236594656126|\n",
    "|39|1063|0.16111523608685271|\n",
    "|40|3787|0.15634146444449587|\n",
    "|41|109|0.15584475620020882|\n",
    "|42|1336|0.1537285620200878|\n",
    "|43|51|0.15357367116310988|\n",
    "|44|2947|0.15141928544199565|\n",
    "|45|3293|0.15074642318217163|\n",
    "|46|2616|0.14959517234103142|\n",
    "|47|55|0.14861210409484707|\n",
    "|48|59|0.14836346587363505|\n",
    "|49|2748|0.14798050783161792|\n",
    "|50|61|0.14794422467886315|\n",
    "|51|62|0.14752596294590894|\n",
    "|52|121|0.14640537159135286|\n",
    "|53|95|0.14632774307210752|\n",
    "|54|1363|0.1462210911842419|\n",
    "|55|270|0.14534169461613813|\n",
    "|56|69|0.14498349122384754|\n",
    "|57|137|0.14446873625673448|\n",
    "|58|3583|0.1439300704520163|\n",
    "|59|2|0.14373717512372125|\n",
    "|60|12|0.14332354394961686|\n",
    "|61|154|0.14255344030111755|\n",
    "|62|1316|0.14241217081485177|\n",
    "|63|1006|0.1420072233410528|\n",
    "|64|2835|0.14178033745732693|\n",
    "|65|171|0.1406593616521067|\n",
    "|66|119|0.1406593616521067|\n",
    "|67|190|0.1406593616521067|\n",
    "|68|170|0.14033985396077286|\n",
    "|69|146|0.14016169248441251|\n",
    "|70|863|0.13993015692558944|\n",
    "|71|183|0.13972315006570654|\n",
    "|72|42|0.13919840073291948|\n",
    "|73|101|0.13878637583231102|\n",
    "|74|2992|0.13807715257970732|\n",
    "|75|3333|0.13792520383548038|\n",
    "|76|5|0.13766873771969013|\n",
    "|77|76|0.13739445846378143|\n",
    "|78|1459|0.13472616310609864|\n",
    "|79|1393|0.13415926503388223|\n",
    "|80|1392|0.13383310262932566|\n",
    "|81|2240|0.13377542838922993|\n",
    "|82|1438|0.1332926965391058|\n",
    "|83|3686|0.13317388598677504|\n",
    "|84|156|0.13306011319297198|\n",
    "|85|1971|0.13295007135984033|\n",
    "|86|1672|0.13229677553740302|\n",
    "|87|106|0.13203704738701982|\n",
    "|88|2244|0.13153786613154494|\n",
    "|89|123|0.13049262248530896|\n",
    "|90|16|0.13045110931442133|\n",
    "|91|2301|0.12934707919071223|\n",
    "|92|3695|0.12932705579768874|\n",
    "|93|1143|0.12921249894216075|\n",
    "|94|1199|0.12834212946767098|\n",
    "|95|3647|0.12818127800197604|\n",
    "|96|1405|0.128146967935029|\n",
    "|97|89|0.12799834417555797|\n",
    "|98|2235|0.1279841608811912|\n",
    "|99|2255|0.1279841608811912|\n",
    "|100|1478|0.1279841608811912|\n",
    "\n",
    "To find top three drivers of churn for each customer, we use f_regression to getthe scores od features, and we can see that the top three customer characteristics are DaysSinceLastLogin, CHIScoreMonth and SPMonth.\n",
    "\n",
    "| Characteristic      |Scores of features|\n",
    "|---------------------|------------------|\n",
    "|CustomerAgeinmonths  |5.79810180e+00    |\n",
    "|CHIScoreMonth        |4.50934788e+01    |\n",
    "|CHIScore             |4.81690527e-01    |\n",
    "|SupportCasesMonth    |1.28592393e+01    |\n",
    "|SupportCases         |1.25369732e+01    |\n",
    "|SPMonth              |1.92063533e+01    |\n",
    "|SP                   |2.45889645e+00    |\n",
    "|Logins               |1.17957239e+01    |\n",
    "|BlogArticles         |3.99658854e+00    |\n",
    "|Views                |2.83301624e-07    |\n",
    "|DaysSinceLastLogin   |7.99745711e+01    |"
   ]
  },
  {
   "cell_type": "markdown",
   "metadata": {},
   "source": [
    "### 5 Conclusion"
   ]
  },
  {
   "cell_type": "markdown",
   "metadata": {},
   "source": [
    "After in-depth analysis of the "
   ]
  }
 ],
 "metadata": {
  "kernelspec": {
   "display_name": "Python 3",
   "language": "python",
   "name": "python3"
  },
  "language_info": {
   "codemirror_mode": {
    "name": "ipython",
    "version": 3
   },
   "file_extension": ".py",
   "mimetype": "text/x-python",
   "name": "python",
   "nbconvert_exporter": "python",
   "pygments_lexer": "ipython3",
   "version": "3.7.1"
  }
 },
 "nbformat": 4,
 "nbformat_minor": 2
}
