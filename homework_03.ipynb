{
 "cells": [
  {
   "cell_type": "markdown",
   "metadata": {},
   "source": [
    "# Homework Assignment #3"
   ]
  },
  {
   "cell_type": "code",
   "execution_count": 97,
   "metadata": {},
   "outputs": [],
   "source": [
    "import os\n",
    "import numpy as np\n",
    "import pandas as pd\n",
    "import matplotlib.pyplot as plt"
   ]
  },
  {
   "cell_type": "code",
   "execution_count": 99,
   "metadata": {},
   "outputs": [],
   "source": [
    "data_path = os.path.join(\"data\", \"caseStudyCleaned.csv\")\n",
    "\n",
    "if not os.path.exists(data_path):\n",
    "    print(\"Download data first!\")"
   ]
  },
  {
   "cell_type": "code",
   "execution_count": 101,
   "metadata": {},
   "outputs": [],
   "source": [
    "df = pd.read_csv(data_path)"
   ]
  },
  {
   "cell_type": "markdown",
   "metadata": {},
   "source": [
    "### 1. Is Wall’s belief about the dependence of churn rates on customer age supported by the data? To get some intuition, try visualizing this dependence (Hint: no need to run any statistical tests)."
   ]
  },
  {
   "cell_type": "code",
   "execution_count": 103,
   "metadata": {},
   "outputs": [
    {
     "data": {
      "image/png": "[encoded data removed]",
      "text/plain": [
       "<Figure size 432x288 with 1 Axes>"
      ]
     },
     "metadata": {
      "needs_background": "light"
     },
     "output_type": "display_data"
    }
   ],
   "source": [
    "plt.scatter(df['CustomerAgeinmonths'],df['Churn1Yes0No'])\n",
    "plt.xlabel(\"Age\")\n",
    "plt.ylabel('Churn')\n",
    "plt.savefig(\"1\")"
   ]
  },
  {
   "cell_type": "code",
   "execution_count": 105,
   "metadata": {},
   "outputs": [
    {
     "data": {
      "image/png": "[encoded data removed]",
      "text/plain": [
       "<Figure size 432x288 with 1 Axes>"
      ]
     },
     "metadata": {
      "needs_background": "light"
     },
     "output_type": "display_data"
    }
   ],
   "source": [
    "df_t = df.loc[:,['CHIScoreMonth0', 'Churn1Yes0No']]\n",
    "df_t = df_t.groupby(['CHIScoreMonth0']).mean()\n",
    "df_t.rename(columns={'Churn1Yes0No': 'ChurnRates'}, inplace=True)\n",
    "df_t = df_t.reset_index()\n",
    "df_t.plot.scatter(x=\"CHIScoreMonth0\", y=\"ChurnRates\");"
   ]
  },
  {
   "cell_type": "markdown",
   "metadata": {},
   "source": [
    "### 2. To start, run a single regression model that best predicts the probability that a customer leaves.\n",
    "#### a. What is the predicted probability that Customer 672 will leave between December 2011 and February 2012? Is that high or low? Did that customer actually leave?\n",
    "#### b. What about Customers 354 and 5,203?"
   ]
  },
  {
   "cell_type": "code",
   "execution_count": 106,
   "metadata": {
    "scrolled": false
   },
   "outputs": [
    {
     "name": "stderr",
     "output_type": "stream",
     "text": [
      "/anaconda3/lib/python3.7/site-packages/sklearn/utils/validation.py:761: DataConversionWarning: A column-vector y was passed when a 1d array was expected. Please change the shape of y to (n_samples, ), for example using ravel().\n",
      "  y = column_or_1d(y, warn=True)\n"
     ]
    }
   ],
   "source": [
    "from sklearn.linear_model import LogisticRegression\n",
    "\n",
    "myLogMod = LogisticRegression(solver = 'lbfgs').fit(np.array([df.CHIScoreMonth0]).T, np.array([df.Churn1Yes0No]).T)\n",
    "b_1 = myLogMod.coef_\n",
    "b_0 = myLogMod.intercept_"
   ]
  },
  {
   "cell_type": "code",
   "execution_count": 107,
   "metadata": {},
   "outputs": [
    {
     "name": "stdout",
     "output_type": "stream",
     "text": [
      "[-2.46064255] [[-0.00615342]]\n"
     ]
    }
   ],
   "source": [
    "print(b_0, b_1)"
   ]
  },
  {
   "cell_type": "markdown",
   "metadata": {},
   "source": [
    "$$ Churn1Yes0No = -2.46064255 - 0.00615342 * CHIScoreMonth0 $$\n",
    "$$ P(Churn1Yes0No) = \\frac{1}{1 + e^{-(-2.46064255 - 0.00615342 * CHIScoreMonth0)}} $$"
   ]
  },
  {
   "cell_type": "code",
   "execution_count": 108,
   "metadata": {},
   "outputs": [
    {
     "name": "stdout",
     "output_type": "stream",
     "text": [
      "For Customer 672:  671    0.033203\n",
      "Name: CHIScoreMonth0, dtype: float64\n"
     ]
    },
    {
     "data": {
      "text/html": [
       "<div>\n",
       "<style scoped>\n",
       "    .dataframe tbody tr th:only-of-type {\n",
       "        vertical-align: middle;\n",
       "    }\n",
       "\n",
       "    .dataframe tbody tr th {\n",
       "        vertical-align: top;\n",
       "    }\n",
       "\n",
       "    .dataframe thead th {\n",
       "        text-align: right;\n",
       "    }\n",
       "</style>\n",
       "<table border=\"1\" class=\"dataframe\">\n",
       "  <thead>\n",
       "    <tr style=\"text-align: right;\">\n",
       "      <th></th>\n",
       "      <th>ID</th>\n",
       "      <th>CustomerAgeinmonths</th>\n",
       "      <th>Churn1Yes0No</th>\n",
       "      <th>CHIScoreMonth0</th>\n",
       "      <th>CHIScore01</th>\n",
       "      <th>SupportCasesMonth0</th>\n",
       "      <th>SupportCases01</th>\n",
       "      <th>SPMonth0</th>\n",
       "      <th>SP01</th>\n",
       "      <th>Logins01</th>\n",
       "      <th>BlogArticles01</th>\n",
       "      <th>Views01</th>\n",
       "      <th>DaysSinceLastLogin01</th>\n",
       "    </tr>\n",
       "  </thead>\n",
       "  <tbody>\n",
       "    <tr>\n",
       "      <th>671</th>\n",
       "      <td>672</td>\n",
       "      <td>16.0</td>\n",
       "      <td>0.0</td>\n",
       "      <td>148.0</td>\n",
       "      <td>1.0</td>\n",
       "      <td>0.0</td>\n",
       "      <td>0.0</td>\n",
       "      <td>0.0</td>\n",
       "      <td>0.0</td>\n",
       "      <td>17.0</td>\n",
       "      <td>1.0</td>\n",
       "      <td>85.0</td>\n",
       "      <td>2.0</td>\n",
       "    </tr>\n",
       "  </tbody>\n",
       "</table>\n",
       "</div>"
      ],
      "text/plain": [
       "      ID  CustomerAgeinmonths  Churn1Yes0No  CHIScoreMonth0  CHIScore01  \\\n",
       "671  672                 16.0           0.0           148.0         1.0   \n",
       "\n",
       "     SupportCasesMonth0  SupportCases01  SPMonth0  SP01  Logins01  \\\n",
       "671                 0.0             0.0       0.0   0.0      17.0   \n",
       "\n",
       "     BlogArticles01  Views01  DaysSinceLastLogin01  \n",
       "671             1.0     85.0                   2.0  "
      ]
     },
     "execution_count": 108,
     "metadata": {},
     "output_type": "execute_result"
    }
   ],
   "source": [
    "CHIScore = df.CHIScoreMonth0[df.ID == 672]\n",
    "Prob_Churn = 1 / (1 + np.exp(- (-2.46064255 -0.00615342 * CHIScore)))\n",
    "print(\"For Customer 672: \", Prob_Churn)\n",
    "df[df.ID == 672]"
   ]
  },
  {
   "cell_type": "code",
   "execution_count": 109,
   "metadata": {},
   "outputs": [
    {
     "name": "stdout",
     "output_type": "stream",
     "text": [
      "For Customer 354:  353    0.035027\n",
      "Name: CHIScoreMonth0, dtype: float64\n"
     ]
    },
    {
     "data": {
      "text/html": [
       "<div>\n",
       "<style scoped>\n",
       "    .dataframe tbody tr th:only-of-type {\n",
       "        vertical-align: middle;\n",
       "    }\n",
       "\n",
       "    .dataframe tbody tr th {\n",
       "        vertical-align: top;\n",
       "    }\n",
       "\n",
       "    .dataframe thead th {\n",
       "        text-align: right;\n",
       "    }\n",
       "</style>\n",
       "<table border=\"1\" class=\"dataframe\">\n",
       "  <thead>\n",
       "    <tr style=\"text-align: right;\">\n",
       "      <th></th>\n",
       "      <th>ID</th>\n",
       "      <th>CustomerAgeinmonths</th>\n",
       "      <th>Churn1Yes0No</th>\n",
       "      <th>CHIScoreMonth0</th>\n",
       "      <th>CHIScore01</th>\n",
       "      <th>SupportCasesMonth0</th>\n",
       "      <th>SupportCases01</th>\n",
       "      <th>SPMonth0</th>\n",
       "      <th>SP01</th>\n",
       "      <th>Logins01</th>\n",
       "      <th>BlogArticles01</th>\n",
       "      <th>Views01</th>\n",
       "      <th>DaysSinceLastLogin01</th>\n",
       "    </tr>\n",
       "  </thead>\n",
       "  <tbody>\n",
       "    <tr>\n",
       "      <th>353</th>\n",
       "      <td>354</td>\n",
       "      <td>13.0</td>\n",
       "      <td>0.0</td>\n",
       "      <td>139.0</td>\n",
       "      <td>29.0</td>\n",
       "      <td>0.0</td>\n",
       "      <td>0.0</td>\n",
       "      <td>0.0</td>\n",
       "      <td>0.0</td>\n",
       "      <td>4.0</td>\n",
       "      <td>1.0</td>\n",
       "      <td>244.0</td>\n",
       "      <td>1.0</td>\n",
       "    </tr>\n",
       "  </tbody>\n",
       "</table>\n",
       "</div>"
      ],
      "text/plain": [
       "      ID  CustomerAgeinmonths  Churn1Yes0No  CHIScoreMonth0  CHIScore01  \\\n",
       "353  354                 13.0           0.0           139.0        29.0   \n",
       "\n",
       "     SupportCasesMonth0  SupportCases01  SPMonth0  SP01  Logins01  \\\n",
       "353                 0.0             0.0       0.0   0.0       4.0   \n",
       "\n",
       "     BlogArticles01  Views01  DaysSinceLastLogin01  \n",
       "353             1.0    244.0                   1.0  "
      ]
     },
     "execution_count": 109,
     "metadata": {},
     "output_type": "execute_result"
    }
   ],
   "source": [
    "CHIScore = df.CHIScoreMonth0[df.ID == 354]\n",
    "Prob_Churn = 1 / (1 + np.exp(- (-2.46064255 -0.00615342 * CHIScore)))\n",
    "print(\"For Customer 354: \", Prob_Churn)\n",
    "df[df.ID == 354]"
   ]
  },
  {
   "cell_type": "code",
   "execution_count": 110,
   "metadata": {},
   "outputs": [
    {
     "name": "stdout",
     "output_type": "stream",
     "text": [
      "For Customer 5203:  5202    0.063666\n",
      "Name: CHIScoreMonth0, dtype: float64\n"
     ]
    },
    {
     "data": {
      "text/html": [
       "<div>\n",
       "<style scoped>\n",
       "    .dataframe tbody tr th:only-of-type {\n",
       "        vertical-align: middle;\n",
       "    }\n",
       "\n",
       "    .dataframe tbody tr th {\n",
       "        vertical-align: top;\n",
       "    }\n",
       "\n",
       "    .dataframe thead th {\n",
       "        text-align: right;\n",
       "    }\n",
       "</style>\n",
       "<table border=\"1\" class=\"dataframe\">\n",
       "  <thead>\n",
       "    <tr style=\"text-align: right;\">\n",
       "      <th></th>\n",
       "      <th>ID</th>\n",
       "      <th>CustomerAgeinmonths</th>\n",
       "      <th>Churn1Yes0No</th>\n",
       "      <th>CHIScoreMonth0</th>\n",
       "      <th>CHIScore01</th>\n",
       "      <th>SupportCasesMonth0</th>\n",
       "      <th>SupportCases01</th>\n",
       "      <th>SPMonth0</th>\n",
       "      <th>SP01</th>\n",
       "      <th>Logins01</th>\n",
       "      <th>BlogArticles01</th>\n",
       "      <th>Views01</th>\n",
       "      <th>DaysSinceLastLogin01</th>\n",
       "    </tr>\n",
       "  </thead>\n",
       "  <tbody>\n",
       "    <tr>\n",
       "      <th>5202</th>\n",
       "      <td>5203</td>\n",
       "      <td>4.0</td>\n",
       "      <td>0.0</td>\n",
       "      <td>37.0</td>\n",
       "      <td>32.0</td>\n",
       "      <td>1.0</td>\n",
       "      <td>1.0</td>\n",
       "      <td>0.0</td>\n",
       "      <td>0.0</td>\n",
       "      <td>0.0</td>\n",
       "      <td>0.0</td>\n",
       "      <td>1.0</td>\n",
       "      <td>5.0</td>\n",
       "    </tr>\n",
       "  </tbody>\n",
       "</table>\n",
       "</div>"
      ],
      "text/plain": [
       "        ID  CustomerAgeinmonths  Churn1Yes0No  CHIScoreMonth0  CHIScore01  \\\n",
       "5202  5203                  4.0           0.0            37.0        32.0   \n",
       "\n",
       "      SupportCasesMonth0  SupportCases01  SPMonth0  SP01  Logins01  \\\n",
       "5202                 1.0             1.0       0.0   0.0       0.0   \n",
       "\n",
       "      BlogArticles01  Views01  DaysSinceLastLogin01  \n",
       "5202             0.0      1.0                   5.0  "
      ]
     },
     "execution_count": 110,
     "metadata": {},
     "output_type": "execute_result"
    }
   ],
   "source": [
    "CHIScore = df.CHIScoreMonth0[df.ID == 5203]\n",
    "Prob_Churn = 1 / (1 + np.exp(- (-2.46064255 -0.00615342 * CHIScore)))\n",
    "print(\"For Customer 5203: \", Prob_Churn)\n",
    "df[df.ID == 5203]"
   ]
  },
  {
   "cell_type": "markdown",
   "metadata": {},
   "source": [
    "|   ID   | CHI Score | Probability | Leave |\n",
    "|--------|-----------|-------------|-------|\n",
    "|672     |148        | 3.3%        | NO    |\n",
    "|354     |139        | 3.5%        | NO    |\n",
    "|5203    |37         | 6.36%       | NO    |"
   ]
  },
  {
   "cell_type": "markdown",
   "metadata": {},
   "source": [
    "### 3. How sensible is the approach with a single model? Can you suggest a better approach?\n",
    "#### a. Provide updated estimates of probabilities that Customers 672, 354, and 5,203 will leave.\n",
    "#### b. What factors contribute the most to the predicted probabilities that these customers will leave?"
   ]
  },
  {
   "cell_type": "markdown",
   "metadata": {},
   "source": [
    "## ## Ridge Regression"
   ]
  },
  {
   "cell_type": "code",
   "execution_count": 111,
   "metadata": {},
   "outputs": [],
   "source": [
    "import pandas as pd\n",
    "\n",
    "from sklearn.linear_model import LinearRegression\n",
    "from sklearn.model_selection import train_test_split\n",
    "from sklearn import datasets\n",
    "from sklearn.linear_model import Ridge, RidgeCV\n",
    "from sklearn.metrics import mean_squared_error"
   ]
  },
  {
   "cell_type": "code",
   "execution_count": 245,
   "metadata": {},
   "outputs": [],
   "source": [
    "df_x = df[['CustomerAgeinmonths','CHIScoreMonth0','CHIScore01','SupportCasesMonth0','SupportCases01','SPMonth0','SP01',\n",
    "    'Logins01','BlogArticles01','Views01','DaysSinceLastLogin01']]\n",
    "df_y = df['Churn1Yes0No']"
   ]
  },
  {
   "cell_type": "code",
   "execution_count": 259,
   "metadata": {},
   "outputs": [],
   "source": [
    "X_train, X_test , y_train, y_test = \\\n",
    "    train_test_split(np.array(df_x), np.array(df_y), test_size = 0.5, random_state = 11)"
   ]
  },
  {
   "cell_type": "code",
   "execution_count": 260,
   "metadata": {},
   "outputs": [
    {
     "name": "stdout",
     "output_type": "stream",
     "text": [
      "MSE: 0.04799085045280179\n"
     ]
    }
   ],
   "source": [
    "myLinReg = LinearRegression()\n",
    "x = myLinReg.fit(X_train, y_train)\n",
    "linRegPreds = x.predict(X_test)\n",
    "print(\"MSE: \" + str(mean_squared_error(y_test,linRegPreds)))"
   ]
  },
  {
   "cell_type": "code",
   "execution_count": 261,
   "metadata": {},
   "outputs": [
    {
     "name": "stdout",
     "output_type": "stream",
     "text": [
      "MSE: 0.04799085045280179\n"
     ]
    }
   ],
   "source": [
    "myRidge = Ridge(normalize = True)\n",
    "\n",
    "myRidge.set_params(alpha = 0)\n",
    "myRidge.fit(X_train, y_train)\n",
    "ridgeRegPreds = myRidge.predict(X_test)\n",
    "print(\"MSE: \" + str(mean_squared_error( y_test, ridgeRegPreds)))"
   ]
  },
  {
   "cell_type": "code",
   "execution_count": 262,
   "metadata": {},
   "outputs": [],
   "source": [
    "# Create a vector of alphas from 5 billion to 0.005\n",
    "alphas = 10**np.linspace(10, -4, 500)*0.5"
   ]
  },
  {
   "cell_type": "code",
   "execution_count": 263,
   "metadata": {},
   "outputs": [],
   "source": [
    "myRidge = Ridge(normalize = True)\n",
    "coefs = []\n",
    "\n",
    "for a in alphas:\n",
    "    myRidge.set_params(alpha = a)\n",
    "    myRidge.fit(X_train, y_train)\n",
    "\n",
    "    for i in range(X_train.shape[1]):\n",
    "        coefs.append([a, \"b_\" + str(i + 1), myRidge.coef_[i]])"
   ]
  },
  {
   "cell_type": "code",
   "execution_count": 264,
   "metadata": {},
   "outputs": [
    {
     "data": {
      "text/plain": [
       "0.48187893319205344"
      ]
     },
     "execution_count": 264,
     "metadata": {},
     "output_type": "execute_result"
    }
   ],
   "source": [
    "ridgecv = RidgeCV(alphas = alphas, scoring = 'neg_mean_squared_error', normalize = True)\n",
    "ridgecv.fit(X_train, y_train) \n",
    "ridgecv.alpha_"
   ]
  },
  {
   "cell_type": "code",
   "execution_count": 265,
   "metadata": {},
   "outputs": [
    {
     "name": "stdout",
     "output_type": "stream",
     "text": [
      "0.048059354551371086\n"
     ]
    }
   ],
   "source": [
    "bestRidge = Ridge(alpha = ridgecv.alpha_, normalize = True)\n",
    "bestRidge.fit(X_test, y_test)             # Fit a ridge regression on the training data\n",
    "pred4 = bestRidge.predict(X_train)           # Use this model to predict the test data\n",
    "print(mean_squared_error(y_train, pred4)) "
   ]
  },
  {
   "cell_type": "markdown",
   "metadata": {},
   "source": [
    "## LASSO Regression"
   ]
  },
  {
   "cell_type": "code",
   "execution_count": 266,
   "metadata": {},
   "outputs": [],
   "source": [
    "from sklearn.linear_model import Ridge, RidgeCV, Lasso, LassoCV\n",
    "from sklearn.preprocessing import scale"
   ]
  },
  {
   "cell_type": "code",
   "execution_count": 267,
   "metadata": {},
   "outputs": [],
   "source": [
    "lasso = Lasso(max_iter = 10000, normalize = True)\n",
    "coefs = []\n",
    "\n",
    "for a in alphas:\n",
    "    lasso.set_params(alpha=a)\n",
    "    lasso.fit(scale(X_train), y_train)\n",
    "\n",
    "    for i in range(X_train.shape[1]):\n",
    "        coefs.append([a, \"b_\" + str(i + 1), lasso.coef_[i]])"
   ]
  },
  {
   "cell_type": "code",
   "execution_count": 274,
   "metadata": {},
   "outputs": [
    {
     "data": {
      "text/html": [
       "<div>\n",
       "<style scoped>\n",
       "    .dataframe tbody tr th:only-of-type {\n",
       "        vertical-align: middle;\n",
       "    }\n",
       "\n",
       "    .dataframe tbody tr th {\n",
       "        vertical-align: top;\n",
       "    }\n",
       "\n",
       "    .dataframe thead th {\n",
       "        text-align: right;\n",
       "    }\n",
       "</style>\n",
       "<table border=\"1\" class=\"dataframe\">\n",
       "  <thead>\n",
       "    <tr style=\"text-align: right;\">\n",
       "      <th></th>\n",
       "      <th>alpha</th>\n",
       "      <th>beta</th>\n",
       "      <th>beta_val</th>\n",
       "    </tr>\n",
       "  </thead>\n",
       "  <tbody>\n",
       "    <tr>\n",
       "      <th>5450</th>\n",
       "      <td>0.000065</td>\n",
       "      <td>b_6</td>\n",
       "      <td>-0.005218</td>\n",
       "    </tr>\n",
       "    <tr>\n",
       "      <th>5451</th>\n",
       "      <td>0.000065</td>\n",
       "      <td>b_7</td>\n",
       "      <td>0.000000</td>\n",
       "    </tr>\n",
       "    <tr>\n",
       "      <th>5452</th>\n",
       "      <td>0.000065</td>\n",
       "      <td>b_8</td>\n",
       "      <td>0.000000</td>\n",
       "    </tr>\n",
       "    <tr>\n",
       "      <th>5453</th>\n",
       "      <td>0.000065</td>\n",
       "      <td>b_9</td>\n",
       "      <td>-0.000000</td>\n",
       "    </tr>\n",
       "    <tr>\n",
       "      <th>5454</th>\n",
       "      <td>0.000065</td>\n",
       "      <td>b_10</td>\n",
       "      <td>0.000000</td>\n",
       "    </tr>\n",
       "    <tr>\n",
       "      <th>5455</th>\n",
       "      <td>0.000065</td>\n",
       "      <td>b_11</td>\n",
       "      <td>0.011148</td>\n",
       "    </tr>\n",
       "    <tr>\n",
       "      <th>5456</th>\n",
       "      <td>0.000061</td>\n",
       "      <td>b_1</td>\n",
       "      <td>0.006085</td>\n",
       "    </tr>\n",
       "    <tr>\n",
       "      <th>5457</th>\n",
       "      <td>0.000061</td>\n",
       "      <td>b_2</td>\n",
       "      <td>-0.009899</td>\n",
       "    </tr>\n",
       "    <tr>\n",
       "      <th>5458</th>\n",
       "      <td>0.000061</td>\n",
       "      <td>b_3</td>\n",
       "      <td>0.002121</td>\n",
       "    </tr>\n",
       "    <tr>\n",
       "      <th>5459</th>\n",
       "      <td>0.000061</td>\n",
       "      <td>b_4</td>\n",
       "      <td>-0.001267</td>\n",
       "    </tr>\n",
       "    <tr>\n",
       "      <th>5460</th>\n",
       "      <td>0.000061</td>\n",
       "      <td>b_5</td>\n",
       "      <td>-0.000000</td>\n",
       "    </tr>\n",
       "    <tr>\n",
       "      <th>5461</th>\n",
       "      <td>0.000061</td>\n",
       "      <td>b_6</td>\n",
       "      <td>-0.005293</td>\n",
       "    </tr>\n",
       "    <tr>\n",
       "      <th>5462</th>\n",
       "      <td>0.000061</td>\n",
       "      <td>b_7</td>\n",
       "      <td>0.000000</td>\n",
       "    </tr>\n",
       "    <tr>\n",
       "      <th>5463</th>\n",
       "      <td>0.000061</td>\n",
       "      <td>b_8</td>\n",
       "      <td>0.000000</td>\n",
       "    </tr>\n",
       "    <tr>\n",
       "      <th>5464</th>\n",
       "      <td>0.000061</td>\n",
       "      <td>b_9</td>\n",
       "      <td>-0.000000</td>\n",
       "    </tr>\n",
       "    <tr>\n",
       "      <th>5465</th>\n",
       "      <td>0.000061</td>\n",
       "      <td>b_10</td>\n",
       "      <td>0.000000</td>\n",
       "    </tr>\n",
       "    <tr>\n",
       "      <th>5466</th>\n",
       "      <td>0.000061</td>\n",
       "      <td>b_11</td>\n",
       "      <td>0.011241</td>\n",
       "    </tr>\n",
       "    <tr>\n",
       "      <th>5467</th>\n",
       "      <td>0.000057</td>\n",
       "      <td>b_1</td>\n",
       "      <td>0.006374</td>\n",
       "    </tr>\n",
       "    <tr>\n",
       "      <th>5468</th>\n",
       "      <td>0.000057</td>\n",
       "      <td>b_2</td>\n",
       "      <td>-0.010174</td>\n",
       "    </tr>\n",
       "    <tr>\n",
       "      <th>5469</th>\n",
       "      <td>0.000057</td>\n",
       "      <td>b_3</td>\n",
       "      <td>0.002457</td>\n",
       "    </tr>\n",
       "    <tr>\n",
       "      <th>5470</th>\n",
       "      <td>0.000057</td>\n",
       "      <td>b_4</td>\n",
       "      <td>-0.001405</td>\n",
       "    </tr>\n",
       "    <tr>\n",
       "      <th>5471</th>\n",
       "      <td>0.000057</td>\n",
       "      <td>b_5</td>\n",
       "      <td>-0.000000</td>\n",
       "    </tr>\n",
       "    <tr>\n",
       "      <th>5472</th>\n",
       "      <td>0.000057</td>\n",
       "      <td>b_6</td>\n",
       "      <td>-0.005363</td>\n",
       "    </tr>\n",
       "    <tr>\n",
       "      <th>5473</th>\n",
       "      <td>0.000057</td>\n",
       "      <td>b_7</td>\n",
       "      <td>0.000000</td>\n",
       "    </tr>\n",
       "    <tr>\n",
       "      <th>5474</th>\n",
       "      <td>0.000057</td>\n",
       "      <td>b_8</td>\n",
       "      <td>0.000000</td>\n",
       "    </tr>\n",
       "    <tr>\n",
       "      <th>5475</th>\n",
       "      <td>0.000057</td>\n",
       "      <td>b_9</td>\n",
       "      <td>-0.000000</td>\n",
       "    </tr>\n",
       "    <tr>\n",
       "      <th>5476</th>\n",
       "      <td>0.000057</td>\n",
       "      <td>b_10</td>\n",
       "      <td>0.000000</td>\n",
       "    </tr>\n",
       "    <tr>\n",
       "      <th>5477</th>\n",
       "      <td>0.000057</td>\n",
       "      <td>b_11</td>\n",
       "      <td>0.011327</td>\n",
       "    </tr>\n",
       "    <tr>\n",
       "      <th>5478</th>\n",
       "      <td>0.000053</td>\n",
       "      <td>b_1</td>\n",
       "      <td>0.006672</td>\n",
       "    </tr>\n",
       "    <tr>\n",
       "      <th>5479</th>\n",
       "      <td>0.000053</td>\n",
       "      <td>b_2</td>\n",
       "      <td>-0.010525</td>\n",
       "    </tr>\n",
       "    <tr>\n",
       "      <th>5480</th>\n",
       "      <td>0.000053</td>\n",
       "      <td>b_3</td>\n",
       "      <td>0.002692</td>\n",
       "    </tr>\n",
       "    <tr>\n",
       "      <th>5481</th>\n",
       "      <td>0.000053</td>\n",
       "      <td>b_4</td>\n",
       "      <td>-0.001578</td>\n",
       "    </tr>\n",
       "    <tr>\n",
       "      <th>5482</th>\n",
       "      <td>0.000053</td>\n",
       "      <td>b_5</td>\n",
       "      <td>-0.000000</td>\n",
       "    </tr>\n",
       "    <tr>\n",
       "      <th>5483</th>\n",
       "      <td>0.000053</td>\n",
       "      <td>b_6</td>\n",
       "      <td>-0.005456</td>\n",
       "    </tr>\n",
       "    <tr>\n",
       "      <th>5484</th>\n",
       "      <td>0.000053</td>\n",
       "      <td>b_7</td>\n",
       "      <td>0.000000</td>\n",
       "    </tr>\n",
       "    <tr>\n",
       "      <th>5485</th>\n",
       "      <td>0.000053</td>\n",
       "      <td>b_8</td>\n",
       "      <td>0.000312</td>\n",
       "    </tr>\n",
       "    <tr>\n",
       "      <th>5486</th>\n",
       "      <td>0.000053</td>\n",
       "      <td>b_9</td>\n",
       "      <td>-0.000000</td>\n",
       "    </tr>\n",
       "    <tr>\n",
       "      <th>5487</th>\n",
       "      <td>0.000053</td>\n",
       "      <td>b_10</td>\n",
       "      <td>0.000000</td>\n",
       "    </tr>\n",
       "    <tr>\n",
       "      <th>5488</th>\n",
       "      <td>0.000053</td>\n",
       "      <td>b_11</td>\n",
       "      <td>0.011422</td>\n",
       "    </tr>\n",
       "    <tr>\n",
       "      <th>5489</th>\n",
       "      <td>0.000050</td>\n",
       "      <td>b_1</td>\n",
       "      <td>0.006967</td>\n",
       "    </tr>\n",
       "    <tr>\n",
       "      <th>5490</th>\n",
       "      <td>0.000050</td>\n",
       "      <td>b_2</td>\n",
       "      <td>-0.010904</td>\n",
       "    </tr>\n",
       "    <tr>\n",
       "      <th>5491</th>\n",
       "      <td>0.000050</td>\n",
       "      <td>b_3</td>\n",
       "      <td>0.002865</td>\n",
       "    </tr>\n",
       "    <tr>\n",
       "      <th>5492</th>\n",
       "      <td>0.000050</td>\n",
       "      <td>b_4</td>\n",
       "      <td>-0.001715</td>\n",
       "    </tr>\n",
       "    <tr>\n",
       "      <th>5493</th>\n",
       "      <td>0.000050</td>\n",
       "      <td>b_5</td>\n",
       "      <td>-0.000000</td>\n",
       "    </tr>\n",
       "    <tr>\n",
       "      <th>5494</th>\n",
       "      <td>0.000050</td>\n",
       "      <td>b_6</td>\n",
       "      <td>-0.005621</td>\n",
       "    </tr>\n",
       "    <tr>\n",
       "      <th>5495</th>\n",
       "      <td>0.000050</td>\n",
       "      <td>b_7</td>\n",
       "      <td>0.000198</td>\n",
       "    </tr>\n",
       "    <tr>\n",
       "      <th>5496</th>\n",
       "      <td>0.000050</td>\n",
       "      <td>b_8</td>\n",
       "      <td>0.000680</td>\n",
       "    </tr>\n",
       "    <tr>\n",
       "      <th>5497</th>\n",
       "      <td>0.000050</td>\n",
       "      <td>b_9</td>\n",
       "      <td>-0.000000</td>\n",
       "    </tr>\n",
       "    <tr>\n",
       "      <th>5498</th>\n",
       "      <td>0.000050</td>\n",
       "      <td>b_10</td>\n",
       "      <td>0.000000</td>\n",
       "    </tr>\n",
       "    <tr>\n",
       "      <th>5499</th>\n",
       "      <td>0.000050</td>\n",
       "      <td>b_11</td>\n",
       "      <td>0.011517</td>\n",
       "    </tr>\n",
       "  </tbody>\n",
       "</table>\n",
       "</div>"
      ],
      "text/plain": [
       "         alpha  beta  beta_val\n",
       "5450  0.000065   b_6 -0.005218\n",
       "5451  0.000065   b_7  0.000000\n",
       "5452  0.000065   b_8  0.000000\n",
       "5453  0.000065   b_9 -0.000000\n",
       "5454  0.000065  b_10  0.000000\n",
       "5455  0.000065  b_11  0.011148\n",
       "5456  0.000061   b_1  0.006085\n",
       "5457  0.000061   b_2 -0.009899\n",
       "5458  0.000061   b_3  0.002121\n",
       "5459  0.000061   b_4 -0.001267\n",
       "5460  0.000061   b_5 -0.000000\n",
       "5461  0.000061   b_6 -0.005293\n",
       "5462  0.000061   b_7  0.000000\n",
       "5463  0.000061   b_8  0.000000\n",
       "5464  0.000061   b_9 -0.000000\n",
       "5465  0.000061  b_10  0.000000\n",
       "5466  0.000061  b_11  0.011241\n",
       "5467  0.000057   b_1  0.006374\n",
       "5468  0.000057   b_2 -0.010174\n",
       "5469  0.000057   b_3  0.002457\n",
       "5470  0.000057   b_4 -0.001405\n",
       "5471  0.000057   b_5 -0.000000\n",
       "5472  0.000057   b_6 -0.005363\n",
       "5473  0.000057   b_7  0.000000\n",
       "5474  0.000057   b_8  0.000000\n",
       "5475  0.000057   b_9 -0.000000\n",
       "5476  0.000057  b_10  0.000000\n",
       "5477  0.000057  b_11  0.011327\n",
       "5478  0.000053   b_1  0.006672\n",
       "5479  0.000053   b_2 -0.010525\n",
       "5480  0.000053   b_3  0.002692\n",
       "5481  0.000053   b_4 -0.001578\n",
       "5482  0.000053   b_5 -0.000000\n",
       "5483  0.000053   b_6 -0.005456\n",
       "5484  0.000053   b_7  0.000000\n",
       "5485  0.000053   b_8  0.000312\n",
       "5486  0.000053   b_9 -0.000000\n",
       "5487  0.000053  b_10  0.000000\n",
       "5488  0.000053  b_11  0.011422\n",
       "5489  0.000050   b_1  0.006967\n",
       "5490  0.000050   b_2 -0.010904\n",
       "5491  0.000050   b_3  0.002865\n",
       "5492  0.000050   b_4 -0.001715\n",
       "5493  0.000050   b_5 -0.000000\n",
       "5494  0.000050   b_6 -0.005621\n",
       "5495  0.000050   b_7  0.000198\n",
       "5496  0.000050   b_8  0.000680\n",
       "5497  0.000050   b_9 -0.000000\n",
       "5498  0.000050  b_10  0.000000\n",
       "5499  0.000050  b_11  0.011517"
      ]
     },
     "execution_count": 274,
     "metadata": {},
     "output_type": "execute_result"
    }
   ],
   "source": [
    "myCoefs = pd.DataFrame(coefs, columns=['alpha', 'beta', 'beta_val'])\n",
    "myCoefs.iloc[5450:]"
   ]
  },
  {
   "cell_type": "code",
   "execution_count": 269,
   "metadata": {},
   "outputs": [
    {
     "name": "stdout",
     "output_type": "stream",
     "text": [
      "Optimal Alpha: 5.722114280497082e-05\n",
      "MSE: 0.04792041154813162\n"
     ]
    }
   ],
   "source": [
    "lassocv = LassoCV(cv = 10, normalize = True)\n",
    "lassocv.fit(X_train, y_train)\n",
    "\n",
    "print('Optimal Alpha: ' + str(lassocv.alpha_))\n",
    "\n",
    "lasso.set_params(alpha = lassocv.alpha_)\n",
    "lasso.fit(X_train, y_train)\n",
    "\n",
    "print('MSE: ' + str(mean_squared_error(y_test, lasso.predict(X_test))))"
   ]
  },
  {
   "cell_type": "code",
   "execution_count": 275,
   "metadata": {},
   "outputs": [
    {
     "name": "stderr",
     "output_type": "stream",
     "text": [
      "/anaconda3/lib/python3.7/site-packages/sklearn/utils/validation.py:761: DataConversionWarning: A column-vector y was passed when a 1d array was expected. Please change the shape of y to (n_samples, ), for example using ravel().\n",
      "  y = column_or_1d(y, warn=True)\n"
     ]
    }
   ],
   "source": [
    "prediction = LogisticRegression(solver = 'lbfgs')\\\n",
    "    .fit(np.array([df.CustomerAgeinmonths, df.CHIScoreMonth0,df.CHIScore01, df.SupportCasesMonth0, df.SPMonth0, df.DaysSinceLastLogin01]).T,\n",
    "         np.array([df.Churn1Yes0No]).T)"
   ]
  },
  {
   "cell_type": "code",
   "execution_count": 276,
   "metadata": {},
   "outputs": [
    {
     "name": "stdout",
     "output_type": "stream",
     "text": [
      "[[ 0.0155824  -0.00609524  0.00339462 -0.04366652 -0.05840514  0.0109126 ]]\n",
      "[-2.80257555]\n"
     ]
    }
   ],
   "source": [
    "print(prediction.coef_)\n",
    "print(prediction.intercept_)"
   ]
  },
  {
   "cell_type": "code",
   "execution_count": 278,
   "metadata": {},
   "outputs": [
    {
     "name": "stdout",
     "output_type": "stream",
     "text": [
      "0.031366885104610935\n",
      "0.0\n",
      "0.034294089568494196\n",
      "0.0\n",
      "0.05487571946497283\n",
      "0.0\n"
     ]
    }
   ],
   "source": [
    "list = prediction.predict_proba(np.array([df.CustomerAgeinmonths, df.CHIScoreMonth0,df.CHIScore01,\n",
    "                                          df.SupportCasesMonth0, df.SPMonth0, df.DaysSinceLastLogin01]).T)[:, 1]\n",
    "print(list[671])\n",
    "print(df.iloc[671].Churn1Yes0No)\n",
    "print(list[353])\n",
    "print(df.iloc[353].Churn1Yes0No)\n",
    "print(list[5202])\n",
    "print(df.iloc[5302].Churn1Yes0No)"
   ]
  },
  {
   "cell_type": "markdown",
   "metadata": {},
   "source": [
    "### 4. Answer Wall’s “ultimate question”: provide the list of 100 customers with highest churn probabilities and the top three drivers of churn for each customer."
   ]
  },
  {
   "cell_type": "code",
   "execution_count": null,
   "metadata": {},
   "outputs": [],
   "source": []
  },
  {
   "cell_type": "markdown",
   "metadata": {},
   "source": []
  }
 ],
 "metadata": {
  "kernelspec": {
   "display_name": "Python 3",
   "language": "python",
   "name": "python3"
  },
  "language_info": {
   "codemirror_mode": {
    "name": "ipython",
    "version": 3
   },
   "file_extension": ".py",
   "mimetype": "text/x-python",
   "name": "python",
   "nbconvert_exporter": "python",
   "pygments_lexer": "ipython3",
   "version": "3.7.1"
  }
 },
 "nbformat": 4,
 "nbformat_minor": 2
}
