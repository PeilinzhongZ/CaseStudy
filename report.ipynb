{
 "cells": [
  {
   "cell_type": "markdown",
   "metadata": {},
   "source": [
    "### 1 Executive Summary"
   ]
  },
  {
   "cell_type": "markdown",
   "metadata": {},
   "source": []
  },
  {
   "cell_type": "markdown",
   "metadata": {},
   "source": [
    "### 2 Background"
   ]
  },
  {
   "cell_type": "markdown",
   "metadata": {},
   "source": [
    "As a successful dot-com start-ups, after fast growth initially, QWE realized the need for deeper analytical insight into some key business processes, one of which was customer retention. At first, QWE tried to convince the customer to extend the contract by offering free services or discounts on existing services. However, QWE wondered if they could develop a more proactive approach. Also, they hoped they could estimate the probability that a given customer would leave in the near future and identify the drivers that contributed most to that customer’s decision. To solve this problem, QWE wanted to generate a list of the 100 customers who were most likely to leave and, if possible, the three factors contributing most to that likelihood.\n",
    "\n",
    "To collect dataset, QWE rolled back two months to December 1, 2011, and obtained a sample of 6,000 of QWE’s customers as of that date. To start with this task, Customer age, CHI [Customer Happiness Index], and service and usage patterns are thought as the most important characteristics to solve this problem. QWE doubted that those customers with high CHI scores leave much, but those who are unhappy might leave, and so might those for whom CHI scores dropped recently. Also, number of support cases, average support priority, and usage information: logins, blogs, views, and days since last login are related with the customer retention."
   ]
  },
  {
   "cell_type": "markdown",
   "metadata": {},
   "source": [
    "### 3 Initial Data Analysis"
   ]
  },
  {
   "cell_type": "markdown",
   "metadata": {},
   "source": [
    "The dataset provided for this analysis includes 6,347 observations, each of which represents information for a given customer, across 13 variables:\n",
    "- ID - The id of a customer\n",
    "- CustomerAgeinmonths  \n",
    "- Churn1Yes0No \n",
    "- CHIScoreMonth0 \n",
    "- CHIScore01 \n",
    "- SupportCasesMonth0 \n",
    "- SupportCases01 \n",
    "- SPMonth0 \n",
    "- SP01 \n",
    "- Logins01 \n",
    "- BlogArticles01 \n",
    "- Views01 \n",
    "- DaysSinceLastLogin01 \n"
   ]
  },
  {
   "cell_type": "markdown",
   "metadata": {},
   "source": [
    "### 4 Method And Results"
   ]
  },
  {
   "cell_type": "markdown",
   "metadata": {},
   "source": [
    "#### 4.1 Is Wall’s belief about the dependence of churn rates on customer age supported by the data? To get some intuition, try visualizing this dependence (Hint: no need to run any statistical tests)."
   ]
  },
  {
   "cell_type": "markdown",
   "metadata": {},
   "source": [
    "From the graph, we can not see any relationship between churn rate and customer age. As a result, customer age can not support the dependence of churn age.\n",
    "![](images/1.png)"
   ]
  },
  {
   "cell_type": "markdown",
   "metadata": {},
   "source": [
    "### 4.2 To start, run a single regression model that best predicts the probability that a customer leaves.\n",
    "\n",
    "To run a single regression model, we select the CHIScoreMonth0 to predict the customer churn because it has much higher correlation value than others. \n",
    "\n",
    "|     Characteristic  | Churn1Yes0No |\n",
    "|---------------------|--------------|\n",
    "|ID                   |-0.106701     |\n",
    "|CustomerAgeinmonths  |0.030215      |\n",
    "|Churn1Yes0No         |1.000000      |\n",
    "|CHIScoreMonth0       |-0.084005     |\n",
    "|CHIScore01           |-0.008713     |\n",
    "|SupportCasesMonth0   |-0.044973     |\n",
    "|SupportCases01       |-0.044407     |\n",
    "|SPMonth0             |-0.054935     |\n",
    "|SP01                 |-0.019682     |\n",
    "|Logins01             |-0.043077     |\n",
    "|BlogArticles01       |-0.025090     |\n",
    "|Views01              |0.000007      |\n",
    "|DaysSinceLastLogin01 |0.111568      |\n",
    "\n",
    "Then, we can generate the single regression model: \n",
    "\n",
    "$$ Churn1Yes0No = -2.46064255 - 0.00615342 * CHIScoreMonth0 $$\n",
    "\n",
    "\n",
    "#### a. What is the predicted probability that Customer 672 will leave between December 2011 and February 2012? Is that high or low? Did that customer actually leave?\n",
    "\n",
    "After we get the single refression model, we can calculate the the predicted probability with following equation:\n",
    "\n",
    "$$ P(Churn1Yes0No) = \\frac{1}{1 + e^{-(-2.46064255 - 0.00615342 * CHIScoreMonth0)}} $$\n",
    "\n",
    "|   ID   | CHI Score | Probability | Leave |\n",
    "|--------|-----------|-------------|-------|\n",
    "|672     |148        | 3.3%        | NO    |\n",
    "\n",
    "From above list, we can see that the customer 672 actually did not leave.\n",
    "\n",
    "#### b. What about Customers 354 and 5,203?\n",
    "\n",
    "|   ID   | CHI Score | Probability | Leave |\n",
    "|--------|-----------|-------------|-------|\n",
    "|354     |139        | 3.5%        | NO    |\n",
    "|5203    |37         | 6.36%       | NO    |\n",
    "\n",
    "From above list, we can see that the customer 354 and 5203 actually did not leave."
   ]
  },
  {
   "cell_type": "markdown",
   "metadata": {},
   "source": [
    "### 4.3 How sensible is the approach with a single model? Can you suggest a better approach?\n",
    "\n",
    "If we want a better approach to predict the probability that a customer leaves, we can choose Multiple Logistic Regression(MLR). In this way, we can use multiple customer characteristics to predict the probability that a customer leaves.\n",
    "\n",
    "For this approach, we choose three customer characteristics in our \n",
    "\n",
    "- CustomerAgeinmonths \n",
    "- CHIScoreMonth0\n",
    "- CHIScore01\n",
    "- SupportCasesMonth0\n",
    "- SPMonth0\n",
    "- DaysSinceLastLogin01\n",
    "\n",
    "We choose above six features by using ASSSO Regression, after calculation, we can know that Optimal Alpha as 5.722114280497082e-05, and the the MSE is 0.04792041154813162.\n",
    "\n",
    "|alpha    |beta |beta_val  |\n",
    "|---------|-----|----------|\n",
    "|0.000057 |b_1  |0.006374  |\n",
    "|0.000057 |b_2\t|-0.010174 |\n",
    "|0.000057 |b_3\t|0.002457  |\n",
    "|0.000057 |b_4\t|-0.001405 |\n",
    "|0.000057 |b_5\t|-0.000000 |\n",
    "|0.000057 |b_6\t|-0.005363 |\n",
    "|0.000057 |b_7\t|0.000000  |\n",
    "|0.000057 |b_8\t|0.000000  |\n",
    "|0.000057 |b_9\t|-0.000000 |\n",
    "|0.000057 |b_10 |0.000000  |\n",
    "|0.000057 |b_11 |0.011327  |\n",
    "\n",
    "\n",
    "#### a. Provide updated estimates of probabilities that Customers 672, 354, and 5,203 will leave.\n",
    "\n",
    "After we select CustomerAgeinmonths, CHIScoreMonth0, CHIScore01, SupportCasesMonth0, SPMonth0, DaysSinceLastLogin01 as varibles in the model, we can get the equation in the Multiple  Logistic Regression(MLR):\n",
    "\n",
    "$$ Churn1Yes0No = -2.80257555 + 0.0155824 * CustomerAgeinmonths - 0.00609524 * CHIScoreMonth0 + 0.00339462 * CHIScore01 - 0.04366652 * SupportCasesMonth0 - 0.05840514 * SPMonth0 + 0.0109126 * DaysSinceLastLogin01 $$\n",
    "\n",
    "Also, the following formula is the equation of the predicted probability:\n",
    "\n",
    "$$ P(Churn1Yes0No) = \\frac{1}{1 + e^{-(-2.80257555 + 0.0155824 * CustomerAgeinmonths - 0.00609524 * CHIScoreMonth0 + 0.00339462 * CHIScore01 - 0.04366652 * SupportCasesMonth0 - 0.05840514 * SPMonth0 + 0.0109126 * DaysSinceLastLogin01)}} $$\n",
    "\n",
    "Now, we can updated estimates of probabilities that Customers 672, 354, and 5,203 will leave:\n",
    "\n",
    "|   ID   | Probability | Leave |\n",
    "|--------|-------------|-------|\n",
    "|672     | 3.13%       | NO    |\n",
    "|354     | 3.42%       | NO    |\n",
    "|5203    | 5.48%       | NO    |\n",
    "\n",
    "#### b. What factors contribute the most to the predicted probabilities that these customers will leave?\n",
    "\n"
   ]
  },
  {
   "cell_type": "markdown",
   "metadata": {},
   "source": [
    "### 4.4 Answer Wall’s “ultimate question”: provide the list of 100 customers with highest churn probabilities and the top three drivers of churn for each customer."
   ]
  },
  {
   "cell_type": "markdown",
   "metadata": {},
   "source": []
  }
 ],
 "metadata": {
  "kernelspec": {
   "display_name": "Python 3",
   "language": "python",
   "name": "python3"
  },
  "language_info": {
   "codemirror_mode": {
    "name": "ipython",
    "version": 3
   },
   "file_extension": ".py",
   "mimetype": "text/x-python",
   "name": "python",
   "nbconvert_exporter": "python",
   "pygments_lexer": "ipython3",
   "version": "3.7.1"
  }
 },
 "nbformat": 4,
 "nbformat_minor": 2
}
